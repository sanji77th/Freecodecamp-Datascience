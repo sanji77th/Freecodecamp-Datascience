{
 "cells": [
  {
   "cell_type": "markdown",
   "metadata": {},
   "source": [
    "<h3>Import packages</h3>"
   ]
  },
  {
   "cell_type": "code",
   "execution_count": 19,
   "metadata": {},
   "outputs": [],
   "source": [
    "import requests #pull data from the cryptowat.ch\n",
    "import pandas as pd #to process pulled data"
   ]
  },
  {
   "cell_type": "markdown",
   "metadata": {},
   "source": [
    "<h3>Function to get data and create data frame</h3>"
   ]
  },
  {
   "cell_type": "code",
   "execution_count": 6,
   "metadata": {},
   "outputs": [],
   "source": [
    "def get_historic_price(symbol, exchange='bitfinex', after='2018-09-01'):\n",
    "    url = 'https://api.cryptowat.ch/markets/{exchange}/{symbol}usd/ohlc'.format(\n",
    "        symbol=symbol, exchange=exchange)\n",
    "    resp = requests.get(url, params={\n",
    "        'periods': '3600',\n",
    "        'after': str(int(pd.Timestamp(after).timestamp()))\n",
    "    })\n",
    "    resp.raise_for_status()\n",
    "    data = resp.json()\n",
    "    df = pd.DataFrame(data['result']['3600'], columns=[\n",
    "        'CloseTime', 'OpenPrice', 'HighPrice', 'LowPrice', 'ClosePrice', 'Volume', 'NA'\n",
    "    ])\n",
    "    df['CloseTime'] = pd.to_datetime(df['CloseTime'], unit='s')\n",
    "    df.set_index('CloseTime', inplace=True)\n",
    "    return df"
   ]
  },
  {
   "cell_type": "markdown",
   "metadata": {},
   "source": [
    "<h3>Plotting Basics</h3>"
   ]
  },
  {
   "cell_type": "code",
   "execution_count": 27,
   "metadata": {},
   "outputs": [
    {
     "name": "stdout",
     "output_type": "stream",
     "text": [
      "2021-05-04 12:30:47.427176\n",
      "2021-04-27 12:30:47.427176\n"
     ]
    }
   ],
   "source": [
    "last_week = (pd.Timestamp.now()-pd.offsets.Day(7)) \n",
    "print(pd.Timestamp.now())\n",
    "print(last_week)"
   ]
  },
  {
   "cell_type": "code",
   "execution_count": 28,
   "metadata": {},
   "outputs": [],
   "source": [
    "btc = get_historic_price('btc', 'bitstamp', after=last_week)"
   ]
  },
  {
   "cell_type": "code",
   "execution_count": 29,
   "metadata": {},
   "outputs": [],
   "source": [
    "eth = get_historic_price('eth', 'bitstamp', after=last_week)"
   ]
  },
  {
   "cell_type": "code",
   "execution_count": 22,
   "metadata": {},
   "outputs": [
    {
     "data": {
      "text/html": [
       "<div>\n",
       "<style scoped>\n",
       "    .dataframe tbody tr th:only-of-type {\n",
       "        vertical-align: middle;\n",
       "    }\n",
       "\n",
       "    .dataframe tbody tr th {\n",
       "        vertical-align: top;\n",
       "    }\n",
       "\n",
       "    .dataframe thead th {\n",
       "        text-align: right;\n",
       "    }\n",
       "</style>\n",
       "<table border=\"1\" class=\"dataframe\">\n",
       "  <thead>\n",
       "    <tr style=\"text-align: right;\">\n",
       "      <th></th>\n",
       "      <th>OpenPrice</th>\n",
       "      <th>HighPrice</th>\n",
       "      <th>LowPrice</th>\n",
       "      <th>ClosePrice</th>\n",
       "      <th>Volume</th>\n",
       "      <th>NA</th>\n",
       "    </tr>\n",
       "  </thead>\n",
       "  <tbody>\n",
       "    <tr>\n",
       "      <th>count</th>\n",
       "      <td>164.000000</td>\n",
       "      <td>164.000000</td>\n",
       "      <td>164.000000</td>\n",
       "      <td>164.000000</td>\n",
       "      <td>164.000000</td>\n",
       "      <td>1.640000e+02</td>\n",
       "    </tr>\n",
       "    <tr>\n",
       "      <th>mean</th>\n",
       "      <td>55972.219695</td>\n",
       "      <td>56241.874268</td>\n",
       "      <td>55687.433659</td>\n",
       "      <td>55977.328720</td>\n",
       "      <td>153.792617</td>\n",
       "      <td>8.563793e+06</td>\n",
       "    </tr>\n",
       "    <tr>\n",
       "      <th>std</th>\n",
       "      <td>1633.714663</td>\n",
       "      <td>1624.431725</td>\n",
       "      <td>1631.706589</td>\n",
       "      <td>1629.455647</td>\n",
       "      <td>105.724611</td>\n",
       "      <td>5.807035e+06</td>\n",
       "    </tr>\n",
       "    <tr>\n",
       "      <th>min</th>\n",
       "      <td>52750.020000</td>\n",
       "      <td>53051.220000</td>\n",
       "      <td>52379.900000</td>\n",
       "      <td>52779.040000</td>\n",
       "      <td>18.914751</td>\n",
       "      <td>1.090801e+06</td>\n",
       "    </tr>\n",
       "    <tr>\n",
       "      <th>25%</th>\n",
       "      <td>54560.887500</td>\n",
       "      <td>54813.960000</td>\n",
       "      <td>54300.597500</td>\n",
       "      <td>54557.535000</td>\n",
       "      <td>84.582790</td>\n",
       "      <td>4.810809e+06</td>\n",
       "    </tr>\n",
       "    <tr>\n",
       "      <th>50%</th>\n",
       "      <td>56020.905000</td>\n",
       "      <td>56569.395000</td>\n",
       "      <td>55649.950000</td>\n",
       "      <td>56008.570000</td>\n",
       "      <td>122.283891</td>\n",
       "      <td>6.729399e+06</td>\n",
       "    </tr>\n",
       "    <tr>\n",
       "      <th>75%</th>\n",
       "      <td>57510.292500</td>\n",
       "      <td>57751.397500</td>\n",
       "      <td>57310.687500</td>\n",
       "      <td>57515.802500</td>\n",
       "      <td>182.834860</td>\n",
       "      <td>1.012474e+07</td>\n",
       "    </tr>\n",
       "    <tr>\n",
       "      <th>max</th>\n",
       "      <td>58841.690000</td>\n",
       "      <td>59000.000000</td>\n",
       "      <td>58650.400000</td>\n",
       "      <td>58819.700000</td>\n",
       "      <td>674.211837</td>\n",
       "      <td>3.726937e+07</td>\n",
       "    </tr>\n",
       "  </tbody>\n",
       "</table>\n",
       "</div>"
      ],
      "text/plain": [
       "          OpenPrice     HighPrice      LowPrice    ClosePrice      Volume  \\\n",
       "count    164.000000    164.000000    164.000000    164.000000  164.000000   \n",
       "mean   55972.219695  56241.874268  55687.433659  55977.328720  153.792617   \n",
       "std     1633.714663   1624.431725   1631.706589   1629.455647  105.724611   \n",
       "min    52750.020000  53051.220000  52379.900000  52779.040000   18.914751   \n",
       "25%    54560.887500  54813.960000  54300.597500  54557.535000   84.582790   \n",
       "50%    56020.905000  56569.395000  55649.950000  56008.570000  122.283891   \n",
       "75%    57510.292500  57751.397500  57310.687500  57515.802500  182.834860   \n",
       "max    58841.690000  59000.000000  58650.400000  58819.700000  674.211837   \n",
       "\n",
       "                 NA  \n",
       "count  1.640000e+02  \n",
       "mean   8.563793e+06  \n",
       "std    5.807035e+06  \n",
       "min    1.090801e+06  \n",
       "25%    4.810809e+06  \n",
       "50%    6.729399e+06  \n",
       "75%    1.012474e+07  \n",
       "max    3.726937e+07  "
      ]
     },
     "execution_count": 22,
     "metadata": {},
     "output_type": "execute_result"
    }
   ],
   "source": [
    "btc.describe()"
   ]
  },
  {
   "cell_type": "code",
   "execution_count": 23,
   "metadata": {},
   "outputs": [
    {
     "data": {
      "text/html": [
       "<div>\n",
       "<style scoped>\n",
       "    .dataframe tbody tr th:only-of-type {\n",
       "        vertical-align: middle;\n",
       "    }\n",
       "\n",
       "    .dataframe tbody tr th {\n",
       "        vertical-align: top;\n",
       "    }\n",
       "\n",
       "    .dataframe thead th {\n",
       "        text-align: right;\n",
       "    }\n",
       "</style>\n",
       "<table border=\"1\" class=\"dataframe\">\n",
       "  <thead>\n",
       "    <tr style=\"text-align: right;\">\n",
       "      <th></th>\n",
       "      <th>OpenPrice</th>\n",
       "      <th>HighPrice</th>\n",
       "      <th>LowPrice</th>\n",
       "      <th>ClosePrice</th>\n",
       "      <th>Volume</th>\n",
       "      <th>NA</th>\n",
       "    </tr>\n",
       "    <tr>\n",
       "      <th>CloseTime</th>\n",
       "      <th></th>\n",
       "      <th></th>\n",
       "      <th></th>\n",
       "      <th></th>\n",
       "      <th></th>\n",
       "      <th></th>\n",
       "    </tr>\n",
       "  </thead>\n",
       "  <tbody>\n",
       "    <tr>\n",
       "      <th>2021-04-27 09:00:00</th>\n",
       "      <td>54614.85</td>\n",
       "      <td>55041.00</td>\n",
       "      <td>54417.51</td>\n",
       "      <td>54506.26</td>\n",
       "      <td>179.827716</td>\n",
       "      <td>9.839128e+06</td>\n",
       "    </tr>\n",
       "    <tr>\n",
       "      <th>2021-04-27 10:00:00</th>\n",
       "      <td>54477.77</td>\n",
       "      <td>54762.74</td>\n",
       "      <td>54400.00</td>\n",
       "      <td>54558.80</td>\n",
       "      <td>132.760421</td>\n",
       "      <td>7.249665e+06</td>\n",
       "    </tr>\n",
       "    <tr>\n",
       "      <th>2021-04-27 11:00:00</th>\n",
       "      <td>54563.27</td>\n",
       "      <td>54865.75</td>\n",
       "      <td>54500.10</td>\n",
       "      <td>54778.27</td>\n",
       "      <td>182.751560</td>\n",
       "      <td>9.991722e+06</td>\n",
       "    </tr>\n",
       "    <tr>\n",
       "      <th>2021-04-27 12:00:00</th>\n",
       "      <td>54778.27</td>\n",
       "      <td>55318.08</td>\n",
       "      <td>54736.39</td>\n",
       "      <td>55215.80</td>\n",
       "      <td>189.640004</td>\n",
       "      <td>1.042559e+07</td>\n",
       "    </tr>\n",
       "    <tr>\n",
       "      <th>2021-04-27 13:00:00</th>\n",
       "      <td>55215.80</td>\n",
       "      <td>55354.59</td>\n",
       "      <td>54814.49</td>\n",
       "      <td>54900.00</td>\n",
       "      <td>147.823512</td>\n",
       "      <td>8.140504e+06</td>\n",
       "    </tr>\n",
       "  </tbody>\n",
       "</table>\n",
       "</div>"
      ],
      "text/plain": [
       "                     OpenPrice  HighPrice  LowPrice  ClosePrice      Volume  \\\n",
       "CloseTime                                                                     \n",
       "2021-04-27 09:00:00   54614.85   55041.00  54417.51    54506.26  179.827716   \n",
       "2021-04-27 10:00:00   54477.77   54762.74  54400.00    54558.80  132.760421   \n",
       "2021-04-27 11:00:00   54563.27   54865.75  54500.10    54778.27  182.751560   \n",
       "2021-04-27 12:00:00   54778.27   55318.08  54736.39    55215.80  189.640004   \n",
       "2021-04-27 13:00:00   55215.80   55354.59  54814.49    54900.00  147.823512   \n",
       "\n",
       "                               NA  \n",
       "CloseTime                          \n",
       "2021-04-27 09:00:00  9.839128e+06  \n",
       "2021-04-27 10:00:00  7.249665e+06  \n",
       "2021-04-27 11:00:00  9.991722e+06  \n",
       "2021-04-27 12:00:00  1.042559e+07  \n",
       "2021-04-27 13:00:00  8.140504e+06  "
      ]
     },
     "execution_count": 23,
     "metadata": {},
     "output_type": "execute_result"
    }
   ],
   "source": [
    "btc.head()"
   ]
  },
  {
   "cell_type": "code",
   "execution_count": 33,
   "metadata": {},
   "outputs": [
    {
     "data": {
      "text/plain": [
       "<AxesSubplot:xlabel='CloseTime'>"
      ]
     },
     "execution_count": 33,
     "metadata": {},
     "output_type": "execute_result"
    },
    {
     "data": {
      "image/png": "[encoded data removed]",
      "text/plain": [
       "<Figure size 1080x504 with 1 Axes>"
      ]
     },
     "metadata": {
      "needs_background": "light"
     },
     "output_type": "display_data"
    }
   ],
   "source": [
    "btc['ClosePrice'].plot(figsize=(15,7))"
   ]
  },
  {
   "cell_type": "code",
   "execution_count": 35,
   "metadata": {},
   "outputs": [
    {
     "data": {
      "text/html": [
       "<div>\n",
       "<style scoped>\n",
       "    .dataframe tbody tr th:only-of-type {\n",
       "        vertical-align: middle;\n",
       "    }\n",
       "\n",
       "    .dataframe tbody tr th {\n",
       "        vertical-align: top;\n",
       "    }\n",
       "\n",
       "    .dataframe thead th {\n",
       "        text-align: right;\n",
       "    }\n",
       "</style>\n",
       "<table border=\"1\" class=\"dataframe\">\n",
       "  <thead>\n",
       "    <tr style=\"text-align: right;\">\n",
       "      <th></th>\n",
       "      <th>OpenPrice</th>\n",
       "      <th>HighPrice</th>\n",
       "      <th>LowPrice</th>\n",
       "      <th>ClosePrice</th>\n",
       "      <th>Volume</th>\n",
       "      <th>NA</th>\n",
       "    </tr>\n",
       "  </thead>\n",
       "  <tbody>\n",
       "    <tr>\n",
       "      <th>count</th>\n",
       "      <td>164.000000</td>\n",
       "      <td>164.000000</td>\n",
       "      <td>164.000000</td>\n",
       "      <td>164.000000</td>\n",
       "      <td>164.000000</td>\n",
       "      <td>1.640000e+02</td>\n",
       "    </tr>\n",
       "    <tr>\n",
       "      <th>mean</th>\n",
       "      <td>2861.859817</td>\n",
       "      <td>2882.409817</td>\n",
       "      <td>2842.476585</td>\n",
       "      <td>2866.454573</td>\n",
       "      <td>2530.526037</td>\n",
       "      <td>7.357466e+06</td>\n",
       "    </tr>\n",
       "    <tr>\n",
       "      <th>std</th>\n",
       "      <td>200.698225</td>\n",
       "      <td>206.682904</td>\n",
       "      <td>196.826552</td>\n",
       "      <td>203.044103</td>\n",
       "      <td>2226.541020</td>\n",
       "      <td>6.984132e+06</td>\n",
       "    </tr>\n",
       "    <tr>\n",
       "      <th>min</th>\n",
       "      <td>2558.330000</td>\n",
       "      <td>2571.720000</td>\n",
       "      <td>2537.100000</td>\n",
       "      <td>2558.250000</td>\n",
       "      <td>39.660000</td>\n",
       "      <td>1.331497e+05</td>\n",
       "    </tr>\n",
       "    <tr>\n",
       "      <th>25%</th>\n",
       "      <td>2727.827500</td>\n",
       "      <td>2740.767500</td>\n",
       "      <td>2708.835000</td>\n",
       "      <td>2726.752500</td>\n",
       "      <td>1290.223748</td>\n",
       "      <td>3.708771e+06</td>\n",
       "    </tr>\n",
       "    <tr>\n",
       "      <th>50%</th>\n",
       "      <td>2783.830000</td>\n",
       "      <td>2795.285000</td>\n",
       "      <td>2766.460000</td>\n",
       "      <td>2786.315000</td>\n",
       "      <td>1933.602964</td>\n",
       "      <td>5.426492e+06</td>\n",
       "    </tr>\n",
       "    <tr>\n",
       "      <th>75%</th>\n",
       "      <td>2941.015000</td>\n",
       "      <td>2955.257500</td>\n",
       "      <td>2927.342500</td>\n",
       "      <td>2944.232500</td>\n",
       "      <td>3011.308388</td>\n",
       "      <td>8.908838e+06</td>\n",
       "    </tr>\n",
       "    <tr>\n",
       "      <th>max</th>\n",
       "      <td>3434.320000</td>\n",
       "      <td>3457.640000</td>\n",
       "      <td>3372.030000</td>\n",
       "      <td>3430.160000</td>\n",
       "      <td>19126.403066</td>\n",
       "      <td>6.426360e+07</td>\n",
       "    </tr>\n",
       "  </tbody>\n",
       "</table>\n",
       "</div>"
      ],
      "text/plain": [
       "         OpenPrice    HighPrice     LowPrice   ClosePrice        Volume  \\\n",
       "count   164.000000   164.000000   164.000000   164.000000    164.000000   \n",
       "mean   2861.859817  2882.409817  2842.476585  2866.454573   2530.526037   \n",
       "std     200.698225   206.682904   196.826552   203.044103   2226.541020   \n",
       "min    2558.330000  2571.720000  2537.100000  2558.250000     39.660000   \n",
       "25%    2727.827500  2740.767500  2708.835000  2726.752500   1290.223748   \n",
       "50%    2783.830000  2795.285000  2766.460000  2786.315000   1933.602964   \n",
       "75%    2941.015000  2955.257500  2927.342500  2944.232500   3011.308388   \n",
       "max    3434.320000  3457.640000  3372.030000  3430.160000  19126.403066   \n",
       "\n",
       "                 NA  \n",
       "count  1.640000e+02  \n",
       "mean   7.357466e+06  \n",
       "std    6.984132e+06  \n",
       "min    1.331497e+05  \n",
       "25%    3.708771e+06  \n",
       "50%    5.426492e+06  \n",
       "75%    8.908838e+06  \n",
       "max    6.426360e+07  "
      ]
     },
     "execution_count": 35,
     "metadata": {},
     "output_type": "execute_result"
    }
   ],
   "source": [
    "eth.describe()"
   ]
  },
  {
   "cell_type": "code",
   "execution_count": 36,
   "metadata": {},
   "outputs": [
    {
     "data": {
      "text/html": [
       "<div>\n",
       "<style scoped>\n",
       "    .dataframe tbody tr th:only-of-type {\n",
       "        vertical-align: middle;\n",
       "    }\n",
       "\n",
       "    .dataframe tbody tr th {\n",
       "        vertical-align: top;\n",
       "    }\n",
       "\n",
       "    .dataframe thead th {\n",
       "        text-align: right;\n",
       "    }\n",
       "</style>\n",
       "<table border=\"1\" class=\"dataframe\">\n",
       "  <thead>\n",
       "    <tr style=\"text-align: right;\">\n",
       "      <th></th>\n",
       "      <th>OpenPrice</th>\n",
       "      <th>HighPrice</th>\n",
       "      <th>LowPrice</th>\n",
       "      <th>ClosePrice</th>\n",
       "      <th>Volume</th>\n",
       "      <th>NA</th>\n",
       "    </tr>\n",
       "    <tr>\n",
       "      <th>CloseTime</th>\n",
       "      <th></th>\n",
       "      <th></th>\n",
       "      <th></th>\n",
       "      <th></th>\n",
       "      <th></th>\n",
       "      <th></th>\n",
       "    </tr>\n",
       "  </thead>\n",
       "  <tbody>\n",
       "    <tr>\n",
       "      <th>2021-04-27 13:00:00</th>\n",
       "      <td>2578.38</td>\n",
       "      <td>2587.48</td>\n",
       "      <td>2553.79</td>\n",
       "      <td>2558.25</td>\n",
       "      <td>2500.739932</td>\n",
       "      <td>6.428877e+06</td>\n",
       "    </tr>\n",
       "    <tr>\n",
       "      <th>2021-04-27 14:00:00</th>\n",
       "      <td>2558.33</td>\n",
       "      <td>2571.72</td>\n",
       "      <td>2537.10</td>\n",
       "      <td>2558.56</td>\n",
       "      <td>3420.935203</td>\n",
       "      <td>8.746006e+06</td>\n",
       "    </tr>\n",
       "    <tr>\n",
       "      <th>2021-04-27 15:00:00</th>\n",
       "      <td>2558.88</td>\n",
       "      <td>2641.49</td>\n",
       "      <td>2541.22</td>\n",
       "      <td>2638.64</td>\n",
       "      <td>10255.183218</td>\n",
       "      <td>2.665111e+07</td>\n",
       "    </tr>\n",
       "    <tr>\n",
       "      <th>2021-04-27 16:00:00</th>\n",
       "      <td>2639.16</td>\n",
       "      <td>2674.86</td>\n",
       "      <td>2622.70</td>\n",
       "      <td>2667.30</td>\n",
       "      <td>6826.059461</td>\n",
       "      <td>1.805429e+07</td>\n",
       "    </tr>\n",
       "    <tr>\n",
       "      <th>2021-04-27 17:00:00</th>\n",
       "      <td>2668.67</td>\n",
       "      <td>2683.65</td>\n",
       "      <td>2627.06</td>\n",
       "      <td>2634.78</td>\n",
       "      <td>3719.018995</td>\n",
       "      <td>9.871238e+06</td>\n",
       "    </tr>\n",
       "  </tbody>\n",
       "</table>\n",
       "</div>"
      ],
      "text/plain": [
       "                     OpenPrice  HighPrice  LowPrice  ClosePrice        Volume  \\\n",
       "CloseTime                                                                       \n",
       "2021-04-27 13:00:00    2578.38    2587.48   2553.79     2558.25   2500.739932   \n",
       "2021-04-27 14:00:00    2558.33    2571.72   2537.10     2558.56   3420.935203   \n",
       "2021-04-27 15:00:00    2558.88    2641.49   2541.22     2638.64  10255.183218   \n",
       "2021-04-27 16:00:00    2639.16    2674.86   2622.70     2667.30   6826.059461   \n",
       "2021-04-27 17:00:00    2668.67    2683.65   2627.06     2634.78   3719.018995   \n",
       "\n",
       "                               NA  \n",
       "CloseTime                          \n",
       "2021-04-27 13:00:00  6.428877e+06  \n",
       "2021-04-27 14:00:00  8.746006e+06  \n",
       "2021-04-27 15:00:00  2.665111e+07  \n",
       "2021-04-27 16:00:00  1.805429e+07  \n",
       "2021-04-27 17:00:00  9.871238e+06  "
      ]
     },
     "execution_count": 36,
     "metadata": {},
     "output_type": "execute_result"
    }
   ],
   "source": [
    "eth.head()"
   ]
  },
  {
   "cell_type": "code",
   "execution_count": 93,
   "metadata": {},
   "outputs": [
    {
     "data": {
      "text/plain": [
       "Text(0, 0.5, 'price')"
      ]
     },
     "execution_count": 93,
     "metadata": {},
     "output_type": "execute_result"
    },
    {
     "data": {
      "image/png": "[encoded data removed]",
      "text/plain": [
       "<Figure size 1080x504 with 2 Axes>"
      ]
     },
     "metadata": {
      "needs_background": "light"
     },
     "output_type": "display_data"
    }
   ],
   "source": [
    "import matplotlib.pyplot as plt\n",
    "import numpy as np\n",
    "\n",
    "fig,(ax1,ax2) =  plt.subplots(1,2,figsize=(15,7))\n",
    "fig.suptitle('Eth Graphs')\n",
    "\n",
    "ax1.plot(eth['OpenPrice'])\n",
    "ax1.set_title('Open Price')\n",
    "ax1.legend(['open price'])\n",
    "ax1.set_xlabel('time')\n",
    "ax1.set_ylabel('price')\n",
    "\n",
    "\n",
    "ax2.plot(eth['ClosePrice'])\n",
    "ax2.set_title('Close Price')\n",
    "ax2.legend(['close price'])\n",
    "ax2.set_xlabel('time')\n",
    "ax2.set_ylabel('price')\n",
    "\n"
   ]
  },
  {
   "cell_type": "markdown",
   "metadata": {},
   "source": [
    "<h3>Write to excel sheet</h3>"
   ]
  },
  {
   "cell_type": "code",
   "execution_count": 96,
   "metadata": {},
   "outputs": [],
   "source": [
    "writer = pd.ExcelWriter('Cryptos.xlsx')"
   ]
  },
  {
   "cell_type": "code",
   "execution_count": 98,
   "metadata": {},
   "outputs": [],
   "source": [
    "btc.to_excel(writer,sheet_name='Bitcoin')"
   ]
  },
  {
   "cell_type": "code",
   "execution_count": 100,
   "metadata": {},
   "outputs": [],
   "source": [
    "eth.to_excel(writer,sheet_name='Ether')"
   ]
  },
  {
   "cell_type": "code",
   "execution_count": 101,
   "metadata": {},
   "outputs": [],
   "source": [
    "writer.save()"
   ]
  },
  {
   "cell_type": "code",
   "execution_count": null,
   "metadata": {},
   "outputs": [],
   "source": []
  }
 ],
 "metadata": {
  "kernelspec": {
   "display_name": "Python 3",
   "language": "python",
   "name": "python3"
  },
  "language_info": {
   "codemirror_mode": {
    "name": "ipython",
    "version": 3
   },
   "file_extension": ".py",
   "mimetype": "text/x-python",
   "name": "python",
   "nbconvert_exporter": "python",
   "pygments_lexer": "ipython3",
   "version": "3.8.5"
  }
 },
 "nbformat": 4,
 "nbformat_minor": 4
}
