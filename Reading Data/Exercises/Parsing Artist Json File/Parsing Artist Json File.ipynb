{
 "cells": [
  {
   "cell_type": "code",
   "execution_count": 1,
   "metadata": {},
   "outputs": [],
   "source": [
    "import numpy as np\n",
    "import pandas as pd"
   ]
  },
  {
   "cell_type": "code",
   "execution_count": 35,
   "metadata": {},
   "outputs": [],
   "source": [
    "artists = pd.read_json('Data/artists.json')"
   ]
  },
  {
   "cell_type": "code",
   "execution_count": 36,
   "metadata": {},
   "outputs": [],
   "source": [
    "artists = artists.drop(columns=['bio'])"
   ]
  },
  {
   "cell_type": "code",
   "execution_count": 37,
   "metadata": {},
   "outputs": [],
   "source": [
    "artists = artists.set_index('name')"
   ]
  },
  {
   "cell_type": "code",
   "execution_count": 38,
   "metadata": {
    "scrolled": true
   },
   "outputs": [
    {
     "data": {
      "text/html": [
       "<div>\n",
       "<style scoped>\n",
       "    .dataframe tbody tr th:only-of-type {\n",
       "        vertical-align: middle;\n",
       "    }\n",
       "\n",
       "    .dataframe tbody tr th {\n",
       "        vertical-align: top;\n",
       "    }\n",
       "\n",
       "    .dataframe thead th {\n",
       "        text-align: right;\n",
       "    }\n",
       "</style>\n",
       "<table border=\"1\" class=\"dataframe\">\n",
       "  <thead>\n",
       "    <tr style=\"text-align: right;\">\n",
       "      <th></th>\n",
       "      <th>years</th>\n",
       "      <th>genre</th>\n",
       "      <th>nationality</th>\n",
       "    </tr>\n",
       "    <tr>\n",
       "      <th>name</th>\n",
       "      <th></th>\n",
       "      <th></th>\n",
       "      <th></th>\n",
       "    </tr>\n",
       "  </thead>\n",
       "  <tbody>\n",
       "    <tr>\n",
       "      <th>Amedeo Modigliani</th>\n",
       "      <td>1884 - 1920</td>\n",
       "      <td>Expressionism</td>\n",
       "      <td>Italian</td>\n",
       "    </tr>\n",
       "    <tr>\n",
       "      <th>Vasiliy Kandinskiy</th>\n",
       "      <td>1866 - 1944</td>\n",
       "      <td>Expressionism,Abstractionism</td>\n",
       "      <td>Russian</td>\n",
       "    </tr>\n",
       "    <tr>\n",
       "      <th>Diego Rivera</th>\n",
       "      <td>1886 - 1957</td>\n",
       "      <td>Social Realism,Muralism</td>\n",
       "      <td>Mexican</td>\n",
       "    </tr>\n",
       "    <tr>\n",
       "      <th>Claude Monet</th>\n",
       "      <td>1840 - 1926</td>\n",
       "      <td>Impressionism</td>\n",
       "      <td>French</td>\n",
       "    </tr>\n",
       "    <tr>\n",
       "      <th>Rene Magritte</th>\n",
       "      <td>1898 - 1967</td>\n",
       "      <td>Surrealism,Impressionism</td>\n",
       "      <td>Belgian</td>\n",
       "    </tr>\n",
       "  </tbody>\n",
       "</table>\n",
       "</div>"
      ],
      "text/plain": [
       "                          years                         genre nationality\n",
       "name                                                                     \n",
       "Amedeo Modigliani   1884 - 1920                 Expressionism     Italian\n",
       "Vasiliy Kandinskiy  1866 - 1944  Expressionism,Abstractionism     Russian\n",
       "Diego Rivera        1886 - 1957       Social Realism,Muralism     Mexican\n",
       "Claude Monet        1840 - 1926                 Impressionism      French\n",
       "Rene Magritte       1898 - 1967      Surrealism,Impressionism     Belgian"
      ]
     },
     "execution_count": 38,
     "metadata": {},
     "output_type": "execute_result"
    }
   ],
   "source": [
    "artists"
   ]
  },
  {
   "cell_type": "code",
   "execution_count": 40,
   "metadata": {},
   "outputs": [],
   "source": [
    "artists.to_csv('Data/artists.csv')"
   ]
  },
  {
   "cell_type": "code",
   "execution_count": 41,
   "metadata": {},
   "outputs": [
    {
     "data": {
      "text/html": [
       "<div>\n",
       "<style scoped>\n",
       "    .dataframe tbody tr th:only-of-type {\n",
       "        vertical-align: middle;\n",
       "    }\n",
       "\n",
       "    .dataframe tbody tr th {\n",
       "        vertical-align: top;\n",
       "    }\n",
       "\n",
       "    .dataframe thead th {\n",
       "        text-align: right;\n",
       "    }\n",
       "</style>\n",
       "<table border=\"1\" class=\"dataframe\">\n",
       "  <thead>\n",
       "    <tr style=\"text-align: right;\">\n",
       "      <th></th>\n",
       "      <th>name</th>\n",
       "      <th>years</th>\n",
       "      <th>genre</th>\n",
       "      <th>nationality</th>\n",
       "    </tr>\n",
       "  </thead>\n",
       "  <tbody>\n",
       "    <tr>\n",
       "      <th>0</th>\n",
       "      <td>Amedeo Modigliani</td>\n",
       "      <td>1884 - 1920</td>\n",
       "      <td>Expressionism</td>\n",
       "      <td>Italian</td>\n",
       "    </tr>\n",
       "    <tr>\n",
       "      <th>1</th>\n",
       "      <td>Vasiliy Kandinskiy</td>\n",
       "      <td>1866 - 1944</td>\n",
       "      <td>Expressionism,Abstractionism</td>\n",
       "      <td>Russian</td>\n",
       "    </tr>\n",
       "    <tr>\n",
       "      <th>2</th>\n",
       "      <td>Diego Rivera</td>\n",
       "      <td>1886 - 1957</td>\n",
       "      <td>Social Realism,Muralism</td>\n",
       "      <td>Mexican</td>\n",
       "    </tr>\n",
       "    <tr>\n",
       "      <th>3</th>\n",
       "      <td>Claude Monet</td>\n",
       "      <td>1840 - 1926</td>\n",
       "      <td>Impressionism</td>\n",
       "      <td>French</td>\n",
       "    </tr>\n",
       "    <tr>\n",
       "      <th>4</th>\n",
       "      <td>Rene Magritte</td>\n",
       "      <td>1898 - 1967</td>\n",
       "      <td>Surrealism,Impressionism</td>\n",
       "      <td>Belgian</td>\n",
       "    </tr>\n",
       "  </tbody>\n",
       "</table>\n",
       "</div>"
      ],
      "text/plain": [
       "                 name        years                         genre nationality\n",
       "0   Amedeo Modigliani  1884 - 1920                 Expressionism     Italian\n",
       "1  Vasiliy Kandinskiy  1866 - 1944  Expressionism,Abstractionism     Russian\n",
       "2        Diego Rivera  1886 - 1957       Social Realism,Muralism     Mexican\n",
       "3        Claude Monet  1840 - 1926                 Impressionism      French\n",
       "4       Rene Magritte  1898 - 1967      Surrealism,Impressionism     Belgian"
      ]
     },
     "execution_count": 41,
     "metadata": {},
     "output_type": "execute_result"
    }
   ],
   "source": [
    "pd.read_csv('Data/artists.csv')"
   ]
  },
  {
   "cell_type": "code",
   "execution_count": null,
   "metadata": {},
   "outputs": [],
   "source": []
  }
 ],
 "metadata": {
  "kernelspec": {
   "display_name": "Python 3",
   "language": "python",
   "name": "python3"
  },
  "language_info": {
   "codemirror_mode": {
    "name": "ipython",
    "version": 3
   },
   "file_extension": ".py",
   "mimetype": "text/x-python",
   "name": "python",
   "nbconvert_exporter": "python",
   "pygments_lexer": "ipython3",
   "version": "3.8.5"
  }
 },
 "nbformat": 4,
 "nbformat_minor": 4
}
